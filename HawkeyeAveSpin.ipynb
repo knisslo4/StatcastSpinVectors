{
 "cells": [
  {
   "cell_type": "code",
   "execution_count": 39,
   "metadata": {},
   "outputs": [],
   "source": [
    "import pandas as pd \n",
    "import numpy as np \n",
    "import math"
   ]
  },
  {
   "cell_type": "code",
   "execution_count": 40,
   "metadata": {},
   "outputs": [
    {
     "data": {
      "text/html": [
       "<div>\n",
       "<style scoped>\n",
       "    .dataframe tbody tr th:only-of-type {\n",
       "        vertical-align: middle;\n",
       "    }\n",
       "\n",
       "    .dataframe tbody tr th {\n",
       "        vertical-align: top;\n",
       "    }\n",
       "\n",
       "    .dataframe thead th {\n",
       "        text-align: right;\n",
       "    }\n",
       "</style>\n",
       "<table border=\"1\" class=\"dataframe\">\n",
       "  <thead>\n",
       "    <tr style=\"text-align: right;\">\n",
       "      <th></th>\n",
       "      <th>release_speed</th>\n",
       "      <th>spin_axis</th>\n",
       "      <th>vx0</th>\n",
       "      <th>vy0</th>\n",
       "      <th>vz0</th>\n",
       "    </tr>\n",
       "  </thead>\n",
       "  <tbody>\n",
       "    <tr>\n",
       "      <th>0</th>\n",
       "      <td>94.1</td>\n",
       "      <td>206.0</td>\n",
       "      <td>4.046345</td>\n",
       "      <td>-136.909925</td>\n",
       "      <td>-7.386507</td>\n",
       "    </tr>\n",
       "    <tr>\n",
       "      <th>1</th>\n",
       "      <td>96.2</td>\n",
       "      <td>204.0</td>\n",
       "      <td>4.525341</td>\n",
       "      <td>-140.029271</td>\n",
       "      <td>-4.732862</td>\n",
       "    </tr>\n",
       "    <tr>\n",
       "      <th>2</th>\n",
       "      <td>94.6</td>\n",
       "      <td>203.0</td>\n",
       "      <td>6.015488</td>\n",
       "      <td>-137.628118</td>\n",
       "      <td>-5.266519</td>\n",
       "    </tr>\n",
       "    <tr>\n",
       "      <th>3</th>\n",
       "      <td>95.7</td>\n",
       "      <td>204.0</td>\n",
       "      <td>5.797287</td>\n",
       "      <td>-139.126302</td>\n",
       "      <td>-6.977290</td>\n",
       "    </tr>\n",
       "    <tr>\n",
       "      <th>4</th>\n",
       "      <td>95.9</td>\n",
       "      <td>203.0</td>\n",
       "      <td>7.895555</td>\n",
       "      <td>-139.301717</td>\n",
       "      <td>-4.686559</td>\n",
       "    </tr>\n",
       "  </tbody>\n",
       "</table>\n",
       "</div>"
      ],
      "text/plain": [
       "   release_speed  spin_axis       vx0         vy0       vz0\n",
       "0           94.1      206.0  4.046345 -136.909925 -7.386507\n",
       "1           96.2      204.0  4.525341 -140.029271 -4.732862\n",
       "2           94.6      203.0  6.015488 -137.628118 -5.266519\n",
       "3           95.7      204.0  5.797287 -139.126302 -6.977290\n",
       "4           95.9      203.0  7.895555 -139.301717 -4.686559"
      ]
     },
     "execution_count": 40,
     "metadata": {},
     "output_type": "execute_result"
    }
   ],
   "source": [
    "data = pd.read_csv('verlander_ff_2023.csv')\n",
    "df = pd.DataFrame(data[['release_speed', 'spin_axis', 'vx0', 'vy0', 'vz0']])\n",
    "df.head()"
   ]
  },
  {
   "cell_type": "code",
   "execution_count": 41,
   "metadata": {},
   "outputs": [
    {
     "name": "stdout",
     "output_type": "stream",
     "text": [
      "94.30176651305683\n",
      "205.3893600616808\n",
      "5.086845654589707\n",
      "-137.00554015806452\n",
      "-8.21581470025576\n",
      "0.96\n"
     ]
    }
   ],
   "source": [
    "velocity = df['release_speed'].mean()\n",
    "spin_axis = df['spin_axis'].mean()\n",
    "vx = df['vx0'].mean()\n",
    "vy = df['vy0'].mean()\n",
    "vz = df['vz0'].mean()\n",
    "spin_eff = active_spin = 0.96\n",
    "\n",
    "print(velocity)\n",
    "print(spin_axis)\n",
    "print(vx)\n",
    "print(vy)\n",
    "print(vz)\n",
    "print(spin_eff)"
   ]
  },
  {
   "cell_type": "code",
   "execution_count": 42,
   "metadata": {},
   "outputs": [],
   "source": [
    "def cal_unit_velocity_vector(vx, vy, vz, velocity):\n",
    "    vx_v = vx / velocity\n",
    "    vy_v = vy / velocity\n",
    "    vz_v = vz / velocity\n",
    "    return pd.Series({'vx_v': vx_v, 'vy_v': vy_v, 'vz_v': vz_v})\n",
    "\n",
    "def cal_vert_release_ang(vx, vy):\n",
    "    vert_release_ang = math.atan(vx / vy)\n",
    "    return vert_release_ang\n",
    "\n",
    "def cal_horz_release_ang(vz, velocity):\n",
    "    horz_release_ang = math.asin(vz / velocity)\n",
    "    return horz_release_ang\n",
    "\n",
    "def cal_cosine_angle(spin_axis):\n",
    "    if spin_axis > 90:\n",
    "        cosine_angle = -math.sqrt(1 - spin_eff**2)\n",
    "    else:\n",
    "        cosine_angle = math.sqrt(1 - spin_eff**2)\n",
    "        \n",
    "    return cosine_angle"
   ]
  },
  {
   "cell_type": "code",
   "execution_count": 43,
   "metadata": {},
   "outputs": [
    {
     "name": "stdout",
     "output_type": "stream",
     "text": [
      "0.05394220959673531\n",
      "-1.452841714678749\n",
      "-0.08712259593905079\n",
      "-0.037111711678174036\n",
      "-0.08723318922410911\n",
      "-0.28\n"
     ]
    }
   ],
   "source": [
    "\n",
    "vx_v, vy_v, vz_v = cal_unit_velocity_vector(vx, vy, vz, velocity)\n",
    "vert_release_ang = cal_vert_release_ang(vx, vy)\n",
    "horz_release_ang = cal_horz_release_ang(vz, velocity)\n",
    "cosine_angle = cal_cosine_angle(spin_axis)\n",
    "\n",
    "print(vx_v)\n",
    "print(vy_v)\n",
    "print(vz_v)\n",
    "print(vert_release_ang)\n",
    "print(horz_release_ang)\n",
    "print(cosine_angle)"
   ]
  },
  {
   "cell_type": "code",
   "execution_count": 44,
   "metadata": {},
   "outputs": [
    {
     "name": "stdout",
     "output_type": "stream",
     "text": [
      "0.06049000769425662\n",
      "-1.452841714678749\n",
      "-0.28\n",
      "1.454100439770767\n",
      "-1.529184711639712\n",
      "1.3354155137612451\n"
     ]
    }
   ],
   "source": [
    "A = vx_v * math.cos(spin_axis) + vz_v * math.sin(spin_axis)\n",
    "C = cosine_angle\n",
    "B = vy_v\n",
    "R = math.sqrt(A**2 + B**2)\n",
    "X = math.atan(B / A)\n",
    "polar_angle = math.asin(C / R) - X\n",
    "\n",
    "print(A)\n",
    "print(B)\n",
    "print(C)\n",
    "print(R)\n",
    "print(X)\n",
    "print(polar_angle)"
   ]
  },
  {
   "cell_type": "code",
   "execution_count": 45,
   "metadata": {},
   "outputs": [
    {
     "name": "stdout",
     "output_type": "stream",
     "text": [
      "-0.36516614136723985\n",
      "0.23321331475678028\n",
      "0.08074643503580918\n"
     ]
    }
   ],
   "source": [
    "wx = math.sin(polar_angle) * math.cos(spin_axis)\n",
    "wy = math.cos(polar_angle)\n",
    "wz = math.sin(horz_release_ang) * math.sin(spin_axis)\n",
    "\n",
    "print(wx)\n",
    "print(wy)\n",
    "print(wz)\n",
    "\n"
   ]
  }
 ],
 "metadata": {
  "kernelspec": {
   "display_name": "local",
   "language": "python",
   "name": "python3"
  },
  "language_info": {
   "codemirror_mode": {
    "name": "ipython",
    "version": 3
   },
   "file_extension": ".py",
   "mimetype": "text/x-python",
   "name": "python",
   "nbconvert_exporter": "python",
   "pygments_lexer": "ipython3",
   "version": "3.8.19"
  }
 },
 "nbformat": 4,
 "nbformat_minor": 2
}
